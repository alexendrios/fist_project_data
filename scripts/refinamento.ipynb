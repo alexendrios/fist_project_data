{
 "cells": [
  {
   "cell_type": "code",
   "execution_count": 2,
   "id": "99f78c2a",
   "metadata": {},
   "outputs": [],
   "source": [
    "import duckdb  # noqa: F401\n"
   ]
  },
  {
   "cell_type": "code",
   "execution_count": 3,
   "id": "06067eda",
   "metadata": {},
   "outputs": [],
   "source": [
    "con = duckdb.connect(database='../data/dados_duckdb.db', read_only=False)"
   ]
  },
  {
   "cell_type": "code",
   "execution_count": 4,
   "id": "b0f117e8",
   "metadata": {},
   "outputs": [
    {
     "data": {
      "application/vnd.microsoft.datawrangler.viewer.v0+json": {
       "columns": [
        {
         "name": "index",
         "rawType": "int64",
         "type": "integer"
        },
        {
         "name": "id",
         "rawType": "int64",
         "type": "integer"
        },
        {
         "name": "nm_produto",
         "rawType": "object",
         "type": "string"
        },
        {
         "name": "id_categoria",
         "rawType": "object",
         "type": "string"
        },
        {
         "name": "id_fornecedor",
         "rawType": "int64",
         "type": "integer"
        },
        {
         "name": "vl_preco",
         "rawType": "float32",
         "type": "float"
        }
       ],
       "ref": "2250d254-de7c-453b-8efe-169e2468803d",
       "rows": [
        [
         "0",
         "10004",
         "SERRA",
         "BT50",
         "100",
         "200.0"
        ],
        [
         "1",
         "10003",
         "PREGO",
         "BT10",
         "100",
         "50.0"
        ],
        [
         "2",
         "10001",
         "PARAFUSO",
         "BT10",
         "100",
         "100.0"
        ],
        [
         "3",
         "10005",
         "MACHAD",
         "BT10",
         "100",
         "50.0"
        ],
        [
         "4",
         "10002",
         "MARTELO",
         "BT50",
         "100",
         "1500.0"
        ]
       ],
       "shape": {
        "columns": 5,
        "rows": 5
       }
      },
      "text/html": [
       "<div>\n",
       "<style scoped>\n",
       "    .dataframe tbody tr th:only-of-type {\n",
       "        vertical-align: middle;\n",
       "    }\n",
       "\n",
       "    .dataframe tbody tr th {\n",
       "        vertical-align: top;\n",
       "    }\n",
       "\n",
       "    .dataframe thead th {\n",
       "        text-align: right;\n",
       "    }\n",
       "</style>\n",
       "<table border=\"1\" class=\"dataframe\">\n",
       "  <thead>\n",
       "    <tr style=\"text-align: right;\">\n",
       "      <th></th>\n",
       "      <th>id</th>\n",
       "      <th>nm_produto</th>\n",
       "      <th>id_categoria</th>\n",
       "      <th>id_fornecedor</th>\n",
       "      <th>vl_preco</th>\n",
       "    </tr>\n",
       "  </thead>\n",
       "  <tbody>\n",
       "    <tr>\n",
       "      <th>0</th>\n",
       "      <td>10004</td>\n",
       "      <td>SERRA</td>\n",
       "      <td>BT50</td>\n",
       "      <td>100</td>\n",
       "      <td>200.0</td>\n",
       "    </tr>\n",
       "    <tr>\n",
       "      <th>1</th>\n",
       "      <td>10003</td>\n",
       "      <td>PREGO</td>\n",
       "      <td>BT10</td>\n",
       "      <td>100</td>\n",
       "      <td>50.0</td>\n",
       "    </tr>\n",
       "    <tr>\n",
       "      <th>2</th>\n",
       "      <td>10001</td>\n",
       "      <td>PARAFUSO</td>\n",
       "      <td>BT10</td>\n",
       "      <td>100</td>\n",
       "      <td>100.0</td>\n",
       "    </tr>\n",
       "    <tr>\n",
       "      <th>3</th>\n",
       "      <td>10005</td>\n",
       "      <td>MACHAD</td>\n",
       "      <td>BT10</td>\n",
       "      <td>100</td>\n",
       "      <td>50.0</td>\n",
       "    </tr>\n",
       "    <tr>\n",
       "      <th>4</th>\n",
       "      <td>10002</td>\n",
       "      <td>MARTELO</td>\n",
       "      <td>BT50</td>\n",
       "      <td>100</td>\n",
       "      <td>1500.0</td>\n",
       "    </tr>\n",
       "  </tbody>\n",
       "</table>\n",
       "</div>"
      ],
      "text/plain": [
       "      id nm_produto id_categoria  id_fornecedor  vl_preco\n",
       "0  10004      SERRA         BT50            100     200.0\n",
       "1  10003      PREGO         BT10            100      50.0\n",
       "2  10001   PARAFUSO         BT10            100     100.0\n",
       "3  10005     MACHAD         BT10            100      50.0\n",
       "4  10002    MARTELO         BT50            100    1500.0"
      ]
     },
     "execution_count": 4,
     "metadata": {},
     "output_type": "execute_result"
    }
   ],
   "source": [
    "df = con.execute(\"SELECT * FROM produtos\").fetch_df()\n",
    "df"
   ]
  },
  {
   "cell_type": "code",
   "execution_count": 5,
   "id": "c87032b6",
   "metadata": {},
   "outputs": [
    {
     "data": {
      "application/vnd.microsoft.datawrangler.viewer.v0+json": {
       "columns": [
        {
         "name": "index",
         "rawType": "int64",
         "type": "integer"
        },
        {
         "name": "id",
         "rawType": "int64",
         "type": "integer"
        },
        {
         "name": "nm_produto",
         "rawType": "object",
         "type": "string"
        },
        {
         "name": "vl_preco",
         "rawType": "float32",
         "type": "float"
        }
       ],
       "ref": "5ad7f0d0-e858-4a5f-bc65-740da6b20703",
       "rows": [
        [
         "0",
         "10004",
         "SERRA",
         "200.0"
        ],
        [
         "1",
         "10003",
         "PREGO",
         "50.0"
        ],
        [
         "2",
         "10001",
         "PARAFUSO",
         "100.0"
        ],
        [
         "3",
         "10005",
         "MACHAD",
         "50.0"
        ],
        [
         "4",
         "10002",
         "MARTELO",
         "1500.0"
        ]
       ],
       "shape": {
        "columns": 3,
        "rows": 5
       }
      },
      "text/html": [
       "<div>\n",
       "<style scoped>\n",
       "    .dataframe tbody tr th:only-of-type {\n",
       "        vertical-align: middle;\n",
       "    }\n",
       "\n",
       "    .dataframe tbody tr th {\n",
       "        vertical-align: top;\n",
       "    }\n",
       "\n",
       "    .dataframe thead th {\n",
       "        text-align: right;\n",
       "    }\n",
       "</style>\n",
       "<table border=\"1\" class=\"dataframe\">\n",
       "  <thead>\n",
       "    <tr style=\"text-align: right;\">\n",
       "      <th></th>\n",
       "      <th>id</th>\n",
       "      <th>nm_produto</th>\n",
       "      <th>vl_preco</th>\n",
       "    </tr>\n",
       "  </thead>\n",
       "  <tbody>\n",
       "    <tr>\n",
       "      <th>0</th>\n",
       "      <td>10004</td>\n",
       "      <td>SERRA</td>\n",
       "      <td>200.0</td>\n",
       "    </tr>\n",
       "    <tr>\n",
       "      <th>1</th>\n",
       "      <td>10003</td>\n",
       "      <td>PREGO</td>\n",
       "      <td>50.0</td>\n",
       "    </tr>\n",
       "    <tr>\n",
       "      <th>2</th>\n",
       "      <td>10001</td>\n",
       "      <td>PARAFUSO</td>\n",
       "      <td>100.0</td>\n",
       "    </tr>\n",
       "    <tr>\n",
       "      <th>3</th>\n",
       "      <td>10005</td>\n",
       "      <td>MACHAD</td>\n",
       "      <td>50.0</td>\n",
       "    </tr>\n",
       "    <tr>\n",
       "      <th>4</th>\n",
       "      <td>10002</td>\n",
       "      <td>MARTELO</td>\n",
       "      <td>1500.0</td>\n",
       "    </tr>\n",
       "  </tbody>\n",
       "</table>\n",
       "</div>"
      ],
      "text/plain": [
       "      id nm_produto  vl_preco\n",
       "0  10004      SERRA     200.0\n",
       "1  10003      PREGO      50.0\n",
       "2  10001   PARAFUSO     100.0\n",
       "3  10005     MACHAD      50.0\n",
       "4  10002    MARTELO    1500.0"
      ]
     },
     "execution_count": 5,
     "metadata": {},
     "output_type": "execute_result"
    }
   ],
   "source": [
    "df2 = df.drop(columns=[ 'id_categoria', 'id_fornecedor' ])\n",
    "df2"
   ]
  },
  {
   "cell_type": "code",
   "execution_count": 6,
   "id": "351698cf",
   "metadata": {},
   "outputs": [],
   "source": [
    "tabela = \"\"\" \n",
    "CREATE TABLE IF NOT EXISTS dim_produtos (\n",
    "        id BIGINT,\n",
    "        nm_produto TEXT,\n",
    "        vl_preco FLOAT\n",
    ")\n",
    "\"\"\"\n"
   ]
  },
  {
   "cell_type": "code",
   "execution_count": 10,
   "id": "3a74f2f4",
   "metadata": {},
   "outputs": [
    {
     "data": {
      "text/plain": [
       "<duckdb.duckdb.DuckDBPyConnection at 0x232cad498b0>"
      ]
     },
     "execution_count": 10,
     "metadata": {},
     "output_type": "execute_result"
    }
   ],
   "source": [
    "con.execute(tabela)\n"
   ]
  },
  {
   "cell_type": "code",
   "execution_count": null,
   "id": "d924bbbd",
   "metadata": {},
   "outputs": [],
   "source": [
    "con.execute(\"INSERT INTO  dim_produtos SELECT * FROM df2\")\n"
   ]
  },
  {
   "cell_type": "code",
   "execution_count": 7,
   "id": "403935b8",
   "metadata": {},
   "outputs": [
    {
     "data": {
      "application/vnd.microsoft.datawrangler.viewer.v0+json": {
       "columns": [
        {
         "name": "index",
         "rawType": "int64",
         "type": "integer"
        },
        {
         "name": "id",
         "rawType": "int64",
         "type": "integer"
        },
        {
         "name": "nm_produto",
         "rawType": "object",
         "type": "string"
        },
        {
         "name": "vl_preco",
         "rawType": "float32",
         "type": "float"
        }
       ],
       "ref": "3255f2c0-ba0c-4f7c-a7f5-6600b4772019",
       "rows": [
        [
         "0",
         "10004",
         "SERRA",
         "200.0"
        ],
        [
         "1",
         "10003",
         "PREGO",
         "50.0"
        ],
        [
         "2",
         "10001",
         "PARAFUSO",
         "100.0"
        ],
        [
         "3",
         "10005",
         "MACHAD",
         "50.0"
        ],
        [
         "4",
         "10002",
         "MARTELO",
         "1500.0"
        ]
       ],
       "shape": {
        "columns": 3,
        "rows": 5
       }
      },
      "text/html": [
       "<div>\n",
       "<style scoped>\n",
       "    .dataframe tbody tr th:only-of-type {\n",
       "        vertical-align: middle;\n",
       "    }\n",
       "\n",
       "    .dataframe tbody tr th {\n",
       "        vertical-align: top;\n",
       "    }\n",
       "\n",
       "    .dataframe thead th {\n",
       "        text-align: right;\n",
       "    }\n",
       "</style>\n",
       "<table border=\"1\" class=\"dataframe\">\n",
       "  <thead>\n",
       "    <tr style=\"text-align: right;\">\n",
       "      <th></th>\n",
       "      <th>id</th>\n",
       "      <th>nm_produto</th>\n",
       "      <th>vl_preco</th>\n",
       "    </tr>\n",
       "  </thead>\n",
       "  <tbody>\n",
       "    <tr>\n",
       "      <th>0</th>\n",
       "      <td>10004</td>\n",
       "      <td>SERRA</td>\n",
       "      <td>200.0</td>\n",
       "    </tr>\n",
       "    <tr>\n",
       "      <th>1</th>\n",
       "      <td>10003</td>\n",
       "      <td>PREGO</td>\n",
       "      <td>50.0</td>\n",
       "    </tr>\n",
       "    <tr>\n",
       "      <th>2</th>\n",
       "      <td>10001</td>\n",
       "      <td>PARAFUSO</td>\n",
       "      <td>100.0</td>\n",
       "    </tr>\n",
       "    <tr>\n",
       "      <th>3</th>\n",
       "      <td>10005</td>\n",
       "      <td>MACHAD</td>\n",
       "      <td>50.0</td>\n",
       "    </tr>\n",
       "    <tr>\n",
       "      <th>4</th>\n",
       "      <td>10002</td>\n",
       "      <td>MARTELO</td>\n",
       "      <td>1500.0</td>\n",
       "    </tr>\n",
       "  </tbody>\n",
       "</table>\n",
       "</div>"
      ],
      "text/plain": [
       "      id nm_produto  vl_preco\n",
       "0  10004      SERRA     200.0\n",
       "1  10003      PREGO      50.0\n",
       "2  10001   PARAFUSO     100.0\n",
       "3  10005     MACHAD      50.0\n",
       "4  10002    MARTELO    1500.0"
      ]
     },
     "execution_count": 7,
     "metadata": {},
     "output_type": "execute_result"
    }
   ],
   "source": [
    "consulta = con.execute(\"SELECT * FROM dim_produtos\").fetch_df()\n",
    "consulta"
   ]
  },
  {
   "cell_type": "code",
   "execution_count": 8,
   "id": "9b1577b4",
   "metadata": {},
   "outputs": [],
   "source": [
    "con.close()"
   ]
  }
 ],
 "metadata": {
  "kernelspec": {
   "display_name": "base",
   "language": "python",
   "name": "python3"
  },
  "language_info": {
   "codemirror_mode": {
    "name": "ipython",
    "version": 3
   },
   "file_extension": ".py",
   "mimetype": "text/x-python",
   "name": "python",
   "nbconvert_exporter": "python",
   "pygments_lexer": "ipython3",
   "version": "3.9.19"
  }
 },
 "nbformat": 4,
 "nbformat_minor": 5
}
