{
 "cells": [
  {
   "cell_type": "code",
   "execution_count": 1,
   "id": "21620354",
   "metadata": {},
   "outputs": [],
   "source": [
    "import duckdb  # noqa: F401\n",
    "import pandas as pd  # noqa: F401\n",
    "import os  # noqa: F401\n",
    "from datetime import datetime # noqa: F401\n"
   ]
  },
  {
   "cell_type": "code",
   "execution_count": 2,
   "id": "9cb54619",
   "metadata": {},
   "outputs": [],
   "source": [
    "con = duckdb.connect(database='../data/dados_duckdb.db',read_only=False)"
   ]
  },
  {
   "cell_type": "code",
   "execution_count": 16,
   "id": "5325326e",
   "metadata": {},
   "outputs": [
    {
     "data": {
      "application/vnd.microsoft.datawrangler.viewer.v0+json": {
       "columns": [
        {
         "name": "index",
         "rawType": "int64",
         "type": "integer"
        },
        {
         "name": "NATBR",
         "rawType": "int64",
         "type": "integer"
        },
        {
         "name": "MARKTZ",
         "rawType": "object",
         "type": "string"
        },
        {
         "name": "WERKS",
         "rawType": "object",
         "type": "string"
        },
        {
         "name": "MAINS",
         "rawType": "int64",
         "type": "integer"
        },
        {
         "name": "LABST",
         "rawType": "int64",
         "type": "integer"
        },
        {
         "name": "nome_arquivo",
         "rawType": "object",
         "type": "string"
        },
        {
         "name": "data_ingestao",
         "rawType": "datetime64[ns]",
         "type": "datetime"
        }
       ],
       "ref": "cea7d3f9-2eac-4d41-a9bb-e0a4bfc1b7f8",
       "rows": [
        [
         "0",
         "10001",
         "PARAFUSO",
         "BT10",
         "100",
         "100",
         "z0019_2.csv",
         "2025-06-26 22:28:29.688976"
        ],
        [
         "1",
         "10002",
         "MARTELO",
         "BT50",
         "100",
         "1500",
         "z0019_2.csv",
         "2025-06-26 22:28:29.688976"
        ],
        [
         "2",
         "10003",
         "PREGO",
         "BT10",
         "100",
         "50",
         "z0019_2.csv",
         "2025-06-26 22:28:29.688976"
        ],
        [
         "3",
         "10004",
         "SERRA",
         "BT50",
         "100",
         "200",
         "z0019_2.csv",
         "2025-06-26 22:28:29.688976"
        ],
        [
         "4",
         "10005",
         "MACHAD",
         "BT10",
         "100",
         "50",
         "z0019_2.csv",
         "2025-06-26 22:28:29.688976"
        ],
        [
         "5",
         "10003",
         "PREGO",
         "BT10",
         "100",
         "60",
         "z0019_2.csv",
         "2025-06-26 22:28:29.688976"
        ]
       ],
       "shape": {
        "columns": 7,
        "rows": 6
       }
      },
      "text/html": [
       "<div>\n",
       "<style scoped>\n",
       "    .dataframe tbody tr th:only-of-type {\n",
       "        vertical-align: middle;\n",
       "    }\n",
       "\n",
       "    .dataframe tbody tr th {\n",
       "        vertical-align: top;\n",
       "    }\n",
       "\n",
       "    .dataframe thead th {\n",
       "        text-align: right;\n",
       "    }\n",
       "</style>\n",
       "<table border=\"1\" class=\"dataframe\">\n",
       "  <thead>\n",
       "    <tr style=\"text-align: right;\">\n",
       "      <th></th>\n",
       "      <th>NATBR</th>\n",
       "      <th>MARKTZ</th>\n",
       "      <th>WERKS</th>\n",
       "      <th>MAINS</th>\n",
       "      <th>LABST</th>\n",
       "      <th>nome_arquivo</th>\n",
       "      <th>data_ingestao</th>\n",
       "    </tr>\n",
       "  </thead>\n",
       "  <tbody>\n",
       "    <tr>\n",
       "      <th>0</th>\n",
       "      <td>10001</td>\n",
       "      <td>PARAFUSO</td>\n",
       "      <td>BT10</td>\n",
       "      <td>100</td>\n",
       "      <td>100</td>\n",
       "      <td>z0019_2.csv</td>\n",
       "      <td>2025-06-26 22:28:29.688976</td>\n",
       "    </tr>\n",
       "    <tr>\n",
       "      <th>1</th>\n",
       "      <td>10002</td>\n",
       "      <td>MARTELO</td>\n",
       "      <td>BT50</td>\n",
       "      <td>100</td>\n",
       "      <td>1500</td>\n",
       "      <td>z0019_2.csv</td>\n",
       "      <td>2025-06-26 22:28:29.688976</td>\n",
       "    </tr>\n",
       "    <tr>\n",
       "      <th>2</th>\n",
       "      <td>10003</td>\n",
       "      <td>PREGO</td>\n",
       "      <td>BT10</td>\n",
       "      <td>100</td>\n",
       "      <td>50</td>\n",
       "      <td>z0019_2.csv</td>\n",
       "      <td>2025-06-26 22:28:29.688976</td>\n",
       "    </tr>\n",
       "    <tr>\n",
       "      <th>3</th>\n",
       "      <td>10004</td>\n",
       "      <td>SERRA</td>\n",
       "      <td>BT50</td>\n",
       "      <td>100</td>\n",
       "      <td>200</td>\n",
       "      <td>z0019_2.csv</td>\n",
       "      <td>2025-06-26 22:28:29.688976</td>\n",
       "    </tr>\n",
       "    <tr>\n",
       "      <th>4</th>\n",
       "      <td>10005</td>\n",
       "      <td>MACHAD</td>\n",
       "      <td>BT10</td>\n",
       "      <td>100</td>\n",
       "      <td>50</td>\n",
       "      <td>z0019_2.csv</td>\n",
       "      <td>2025-06-26 22:28:29.688976</td>\n",
       "    </tr>\n",
       "    <tr>\n",
       "      <th>5</th>\n",
       "      <td>10003</td>\n",
       "      <td>PREGO</td>\n",
       "      <td>BT10</td>\n",
       "      <td>100</td>\n",
       "      <td>60</td>\n",
       "      <td>z0019_2.csv</td>\n",
       "      <td>2025-06-26 22:28:29.688976</td>\n",
       "    </tr>\n",
       "  </tbody>\n",
       "</table>\n",
       "</div>"
      ],
      "text/plain": [
       "   NATBR    MARKTZ WERKS  MAINS  LABST nome_arquivo              data_ingestao\n",
       "0  10001  PARAFUSO  BT10    100    100  z0019_2.csv 2025-06-26 22:28:29.688976\n",
       "1  10002   MARTELO  BT50    100   1500  z0019_2.csv 2025-06-26 22:28:29.688976\n",
       "2  10003     PREGO  BT10    100     50  z0019_2.csv 2025-06-26 22:28:29.688976\n",
       "3  10004     SERRA  BT50    100    200  z0019_2.csv 2025-06-26 22:28:29.688976\n",
       "4  10005    MACHAD  BT10    100     50  z0019_2.csv 2025-06-26 22:28:29.688976\n",
       "5  10003     PREGO  BT10    100     60  z0019_2.csv 2025-06-26 22:28:29.688976"
      ]
     },
     "execution_count": 16,
     "metadata": {},
     "output_type": "execute_result"
    }
   ],
   "source": [
    "arquivo = 'z0019_2.csv'\n",
    "data_ingestao = datetime.now()\n",
    "df_1 = pd.read_csv(f\"../landing/{arquivo}\", sep=\";\")\n",
    "df_1['nome_arquivo'] = arquivo\n",
    "df_1['data_ingestao'] = data_ingestao\n",
    "df_1"
   ]
  },
  {
   "cell_type": "code",
   "execution_count": 17,
   "id": "def0a1c3",
   "metadata": {},
   "outputs": [
    {
     "data": {
      "text/plain": [
       "<duckdb.duckdb.DuckDBPyConnection at 0x1c7b7fe1b70>"
      ]
     },
     "execution_count": 17,
     "metadata": {},
     "output_type": "execute_result"
    }
   ],
   "source": [
    "con.execute(\n",
    "    \"\"\" \n",
    "     CREATE TABLE IF NOT EXISTS bronze_produtos(\n",
    "         NATBR VARCHAR,\n",
    "         MARKTZ VARCHAR,\n",
    "         WERKS VARCHAR,\n",
    "         MAINS VARCHAR,\n",
    "         LABST VARCHAR,\n",
    "         nome_arquivo VARCHAR,  \n",
    "         data_ingestao TIMESTAMP\n",
    "     )\n",
    "    \"\"\"\n",
    ")"
   ]
  },
  {
   "cell_type": "code",
   "execution_count": 18,
   "id": "54950fee",
   "metadata": {},
   "outputs": [
    {
     "data": {
      "text/plain": [
       "<duckdb.duckdb.DuckDBPyConnection at 0x1c7b7fe1b70>"
      ]
     },
     "execution_count": 18,
     "metadata": {},
     "output_type": "execute_result"
    }
   ],
   "source": [
    "con.execute('INSERT INTO bronze_produtos SELECT * FROM df_1')"
   ]
  },
  {
   "cell_type": "code",
   "execution_count": null,
   "id": "00dc5fd9",
   "metadata": {},
   "outputs": [
    {
     "data": {
      "application/vnd.microsoft.datawrangler.viewer.v0+json": {
       "columns": [
        {
         "name": "index",
         "rawType": "int64",
         "type": "integer"
        },
        {
         "name": "NATBR",
         "rawType": "object",
         "type": "string"
        },
        {
         "name": "MARKTZ",
         "rawType": "object",
         "type": "string"
        },
        {
         "name": "WERKS",
         "rawType": "object",
         "type": "string"
        },
        {
         "name": "MAINS",
         "rawType": "object",
         "type": "string"
        },
        {
         "name": "LABST",
         "rawType": "object",
         "type": "string"
        },
        {
         "name": "nome_arquivo",
         "rawType": "object",
         "type": "string"
        },
        {
         "name": "data_ingestao",
         "rawType": "datetime64[ns]",
         "type": "datetime"
        }
       ],
       "ref": "b590ca8e-d80f-4e42-aea7-00275df8000d",
       "rows": [
        [
         "0",
         "10001",
         "PARAFUSO",
         "BT10",
         "100",
         "100",
         "z0019_1.csv",
         "2025-06-26 22:00:50.685911"
        ],
        [
         "1",
         "10002",
         "MARTELO",
         "BT50",
         "100",
         "1500",
         "z0019_1.csv",
         "2025-06-26 22:00:50.685911"
        ],
        [
         "2",
         "10003",
         "PREGO",
         "BT10",
         "100",
         "50",
         "z0019_1.csv",
         "2025-06-26 22:00:50.685911"
        ],
        [
         "3",
         "10001",
         "PARAFUSO",
         "BT10",
         "100",
         "100",
         "z0019_2.csv",
         "2025-06-26 22:28:29.688976"
        ],
        [
         "4",
         "10002",
         "MARTELO",
         "BT50",
         "100",
         "1500",
         "z0019_2.csv",
         "2025-06-26 22:28:29.688976"
        ],
        [
         "5",
         "10003",
         "PREGO",
         "BT10",
         "100",
         "50",
         "z0019_2.csv",
         "2025-06-26 22:28:29.688976"
        ],
        [
         "6",
         "10004",
         "SERRA",
         "BT50",
         "100",
         "200",
         "z0019_2.csv",
         "2025-06-26 22:28:29.688976"
        ],
        [
         "7",
         "10005",
         "MACHAD",
         "BT10",
         "100",
         "50",
         "z0019_2.csv",
         "2025-06-26 22:28:29.688976"
        ],
        [
         "8",
         "10003",
         "PREGO",
         "BT10",
         "100",
         "60",
         "z0019_2.csv",
         "2025-06-26 22:28:29.688976"
        ]
       ],
       "shape": {
        "columns": 7,
        "rows": 9
       }
      },
      "text/html": [
       "<div>\n",
       "<style scoped>\n",
       "    .dataframe tbody tr th:only-of-type {\n",
       "        vertical-align: middle;\n",
       "    }\n",
       "\n",
       "    .dataframe tbody tr th {\n",
       "        vertical-align: top;\n",
       "    }\n",
       "\n",
       "    .dataframe thead th {\n",
       "        text-align: right;\n",
       "    }\n",
       "</style>\n",
       "<table border=\"1\" class=\"dataframe\">\n",
       "  <thead>\n",
       "    <tr style=\"text-align: right;\">\n",
       "      <th></th>\n",
       "      <th>NATBR</th>\n",
       "      <th>MARKTZ</th>\n",
       "      <th>WERKS</th>\n",
       "      <th>MAINS</th>\n",
       "      <th>LABST</th>\n",
       "      <th>nome_arquivo</th>\n",
       "      <th>data_ingestao</th>\n",
       "    </tr>\n",
       "  </thead>\n",
       "  <tbody>\n",
       "    <tr>\n",
       "      <th>0</th>\n",
       "      <td>10001</td>\n",
       "      <td>PARAFUSO</td>\n",
       "      <td>BT10</td>\n",
       "      <td>100</td>\n",
       "      <td>100</td>\n",
       "      <td>z0019_1.csv</td>\n",
       "      <td>2025-06-26 22:00:50.685911</td>\n",
       "    </tr>\n",
       "    <tr>\n",
       "      <th>1</th>\n",
       "      <td>10002</td>\n",
       "      <td>MARTELO</td>\n",
       "      <td>BT50</td>\n",
       "      <td>100</td>\n",
       "      <td>1500</td>\n",
       "      <td>z0019_1.csv</td>\n",
       "      <td>2025-06-26 22:00:50.685911</td>\n",
       "    </tr>\n",
       "    <tr>\n",
       "      <th>2</th>\n",
       "      <td>10003</td>\n",
       "      <td>PREGO</td>\n",
       "      <td>BT10</td>\n",
       "      <td>100</td>\n",
       "      <td>50</td>\n",
       "      <td>z0019_1.csv</td>\n",
       "      <td>2025-06-26 22:00:50.685911</td>\n",
       "    </tr>\n",
       "    <tr>\n",
       "      <th>3</th>\n",
       "      <td>10001</td>\n",
       "      <td>PARAFUSO</td>\n",
       "      <td>BT10</td>\n",
       "      <td>100</td>\n",
       "      <td>100</td>\n",
       "      <td>z0019_2.csv</td>\n",
       "      <td>2025-06-26 22:28:29.688976</td>\n",
       "    </tr>\n",
       "    <tr>\n",
       "      <th>4</th>\n",
       "      <td>10002</td>\n",
       "      <td>MARTELO</td>\n",
       "      <td>BT50</td>\n",
       "      <td>100</td>\n",
       "      <td>1500</td>\n",
       "      <td>z0019_2.csv</td>\n",
       "      <td>2025-06-26 22:28:29.688976</td>\n",
       "    </tr>\n",
       "    <tr>\n",
       "      <th>5</th>\n",
       "      <td>10003</td>\n",
       "      <td>PREGO</td>\n",
       "      <td>BT10</td>\n",
       "      <td>100</td>\n",
       "      <td>50</td>\n",
       "      <td>z0019_2.csv</td>\n",
       "      <td>2025-06-26 22:28:29.688976</td>\n",
       "    </tr>\n",
       "    <tr>\n",
       "      <th>6</th>\n",
       "      <td>10004</td>\n",
       "      <td>SERRA</td>\n",
       "      <td>BT50</td>\n",
       "      <td>100</td>\n",
       "      <td>200</td>\n",
       "      <td>z0019_2.csv</td>\n",
       "      <td>2025-06-26 22:28:29.688976</td>\n",
       "    </tr>\n",
       "    <tr>\n",
       "      <th>7</th>\n",
       "      <td>10005</td>\n",
       "      <td>MACHAD</td>\n",
       "      <td>BT10</td>\n",
       "      <td>100</td>\n",
       "      <td>50</td>\n",
       "      <td>z0019_2.csv</td>\n",
       "      <td>2025-06-26 22:28:29.688976</td>\n",
       "    </tr>\n",
       "    <tr>\n",
       "      <th>8</th>\n",
       "      <td>10003</td>\n",
       "      <td>PREGO</td>\n",
       "      <td>BT10</td>\n",
       "      <td>100</td>\n",
       "      <td>60</td>\n",
       "      <td>z0019_2.csv</td>\n",
       "      <td>2025-06-26 22:28:29.688976</td>\n",
       "    </tr>\n",
       "  </tbody>\n",
       "</table>\n",
       "</div>"
      ],
      "text/plain": [
       "   NATBR    MARKTZ WERKS MAINS LABST nome_arquivo              data_ingestao\n",
       "0  10001  PARAFUSO  BT10   100   100  z0019_1.csv 2025-06-26 22:00:50.685911\n",
       "1  10002   MARTELO  BT50   100  1500  z0019_1.csv 2025-06-26 22:00:50.685911\n",
       "2  10003     PREGO  BT10   100    50  z0019_1.csv 2025-06-26 22:00:50.685911\n",
       "3  10001  PARAFUSO  BT10   100   100  z0019_2.csv 2025-06-26 22:28:29.688976\n",
       "4  10002   MARTELO  BT50   100  1500  z0019_2.csv 2025-06-26 22:28:29.688976\n",
       "5  10003     PREGO  BT10   100    50  z0019_2.csv 2025-06-26 22:28:29.688976\n",
       "6  10004     SERRA  BT50   100   200  z0019_2.csv 2025-06-26 22:28:29.688976\n",
       "7  10005    MACHAD  BT10   100    50  z0019_2.csv 2025-06-26 22:28:29.688976\n",
       "8  10003     PREGO  BT10   100    60  z0019_2.csv 2025-06-26 22:28:29.688976"
      ]
     },
     "execution_count": 19,
     "metadata": {},
     "output_type": "execute_result"
    }
   ],
   "source": [
    "resultado = con.execute(\"SELECT * FROM bronze_produtos\").fetch_df()\n",
    "resultado"
   ]
  },
  {
   "cell_type": "code",
   "execution_count": 20,
   "id": "0cd94d75",
   "metadata": {},
   "outputs": [],
   "source": [
    "con.close()"
   ]
  }
 ],
 "metadata": {
  "kernelspec": {
   "display_name": "base",
   "language": "python",
   "name": "python3"
  },
  "language_info": {
   "codemirror_mode": {
    "name": "ipython",
    "version": 3
   },
   "file_extension": ".py",
   "mimetype": "text/x-python",
   "name": "python",
   "nbconvert_exporter": "python",
   "pygments_lexer": "ipython3",
   "version": "3.9.19"
  }
 },
 "nbformat": 4,
 "nbformat_minor": 5
}
