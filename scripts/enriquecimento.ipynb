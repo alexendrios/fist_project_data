{
 "cells": [
  {
   "cell_type": "code",
   "execution_count": 2,
   "id": "919b5431",
   "metadata": {},
   "outputs": [],
   "source": [
    "import duckdb  # noqa: F401\n"
   ]
  },
  {
   "cell_type": "code",
   "execution_count": 3,
   "id": "20c7b929",
   "metadata": {},
   "outputs": [],
   "source": [
    "con = duckdb.connect(database='../data/dados_duckdb.db', read_only=False)"
   ]
  },
  {
   "cell_type": "code",
   "execution_count": 3,
   "id": "1b17a465",
   "metadata": {},
   "outputs": [],
   "source": [
    "produtos = \"\"\"\n",
    "SELECT * \n",
    "FROM (\n",
    "    SELECT *, ROW_NUMBER() OVER (PARTITION BY NATBR ORDER BY data_ingestao DESC) AS ROW\n",
    "    FROM bronze_produtos\n",
    "    WHERE data_ingestao >= '2025-06-26'\n",
    ") WHERE ROW = 1\n",
    "\"\"\""
   ]
  },
  {
   "cell_type": "code",
   "execution_count": 4,
   "id": "71a67d1d",
   "metadata": {},
   "outputs": [
    {
     "data": {
      "application/vnd.microsoft.datawrangler.viewer.v0+json": {
       "columns": [
        {
         "name": "index",
         "rawType": "int64",
         "type": "integer"
        },
        {
         "name": "NATBR",
         "rawType": "object",
         "type": "string"
        },
        {
         "name": "MARKTZ",
         "rawType": "object",
         "type": "string"
        },
        {
         "name": "WERKS",
         "rawType": "object",
         "type": "string"
        },
        {
         "name": "MAINS",
         "rawType": "object",
         "type": "string"
        },
        {
         "name": "LABST",
         "rawType": "object",
         "type": "string"
        },
        {
         "name": "nome_arquivo",
         "rawType": "object",
         "type": "string"
        },
        {
         "name": "data_ingestao",
         "rawType": "datetime64[ns]",
         "type": "datetime"
        },
        {
         "name": "ROW",
         "rawType": "int64",
         "type": "integer"
        }
       ],
       "ref": "f4c5a55a-f82f-4139-accb-9786deeaa68f",
       "rows": [
        [
         "0",
         "10004",
         "SERRA",
         "BT50",
         "100",
         "200",
         "z0019_2.csv",
         "2025-06-26 22:28:29.688976",
         "1"
        ],
        [
         "1",
         "10003",
         "PREGO",
         "BT10",
         "100",
         "50",
         "z0019_2.csv",
         "2025-06-26 22:28:29.688976",
         "1"
        ],
        [
         "2",
         "10001",
         "PARAFUSO",
         "BT10",
         "100",
         "100",
         "z0019_2.csv",
         "2025-06-26 22:28:29.688976",
         "1"
        ],
        [
         "3",
         "10005",
         "MACHAD",
         "BT10",
         "100",
         "50",
         "z0019_2.csv",
         "2025-06-26 22:28:29.688976",
         "1"
        ],
        [
         "4",
         "10002",
         "MARTELO",
         "BT50",
         "100",
         "1500",
         "z0019_2.csv",
         "2025-06-26 22:28:29.688976",
         "1"
        ]
       ],
       "shape": {
        "columns": 8,
        "rows": 5
       }
      },
      "text/html": [
       "<div>\n",
       "<style scoped>\n",
       "    .dataframe tbody tr th:only-of-type {\n",
       "        vertical-align: middle;\n",
       "    }\n",
       "\n",
       "    .dataframe tbody tr th {\n",
       "        vertical-align: top;\n",
       "    }\n",
       "\n",
       "    .dataframe thead th {\n",
       "        text-align: right;\n",
       "    }\n",
       "</style>\n",
       "<table border=\"1\" class=\"dataframe\">\n",
       "  <thead>\n",
       "    <tr style=\"text-align: right;\">\n",
       "      <th></th>\n",
       "      <th>NATBR</th>\n",
       "      <th>MARKTZ</th>\n",
       "      <th>WERKS</th>\n",
       "      <th>MAINS</th>\n",
       "      <th>LABST</th>\n",
       "      <th>nome_arquivo</th>\n",
       "      <th>data_ingestao</th>\n",
       "      <th>ROW</th>\n",
       "    </tr>\n",
       "  </thead>\n",
       "  <tbody>\n",
       "    <tr>\n",
       "      <th>0</th>\n",
       "      <td>10004</td>\n",
       "      <td>SERRA</td>\n",
       "      <td>BT50</td>\n",
       "      <td>100</td>\n",
       "      <td>200</td>\n",
       "      <td>z0019_2.csv</td>\n",
       "      <td>2025-06-26 22:28:29.688976</td>\n",
       "      <td>1</td>\n",
       "    </tr>\n",
       "    <tr>\n",
       "      <th>1</th>\n",
       "      <td>10003</td>\n",
       "      <td>PREGO</td>\n",
       "      <td>BT10</td>\n",
       "      <td>100</td>\n",
       "      <td>50</td>\n",
       "      <td>z0019_2.csv</td>\n",
       "      <td>2025-06-26 22:28:29.688976</td>\n",
       "      <td>1</td>\n",
       "    </tr>\n",
       "    <tr>\n",
       "      <th>2</th>\n",
       "      <td>10001</td>\n",
       "      <td>PARAFUSO</td>\n",
       "      <td>BT10</td>\n",
       "      <td>100</td>\n",
       "      <td>100</td>\n",
       "      <td>z0019_2.csv</td>\n",
       "      <td>2025-06-26 22:28:29.688976</td>\n",
       "      <td>1</td>\n",
       "    </tr>\n",
       "    <tr>\n",
       "      <th>3</th>\n",
       "      <td>10005</td>\n",
       "      <td>MACHAD</td>\n",
       "      <td>BT10</td>\n",
       "      <td>100</td>\n",
       "      <td>50</td>\n",
       "      <td>z0019_2.csv</td>\n",
       "      <td>2025-06-26 22:28:29.688976</td>\n",
       "      <td>1</td>\n",
       "    </tr>\n",
       "    <tr>\n",
       "      <th>4</th>\n",
       "      <td>10002</td>\n",
       "      <td>MARTELO</td>\n",
       "      <td>BT50</td>\n",
       "      <td>100</td>\n",
       "      <td>1500</td>\n",
       "      <td>z0019_2.csv</td>\n",
       "      <td>2025-06-26 22:28:29.688976</td>\n",
       "      <td>1</td>\n",
       "    </tr>\n",
       "  </tbody>\n",
       "</table>\n",
       "</div>"
      ],
      "text/plain": [
       "   NATBR    MARKTZ WERKS MAINS LABST nome_arquivo              data_ingestao  \\\n",
       "0  10004     SERRA  BT50   100   200  z0019_2.csv 2025-06-26 22:28:29.688976   \n",
       "1  10003     PREGO  BT10   100    50  z0019_2.csv 2025-06-26 22:28:29.688976   \n",
       "2  10001  PARAFUSO  BT10   100   100  z0019_2.csv 2025-06-26 22:28:29.688976   \n",
       "3  10005    MACHAD  BT10   100    50  z0019_2.csv 2025-06-26 22:28:29.688976   \n",
       "4  10002   MARTELO  BT50   100  1500  z0019_2.csv 2025-06-26 22:28:29.688976   \n",
       "\n",
       "   ROW  \n",
       "0    1  \n",
       "1    1  \n",
       "2    1  \n",
       "3    1  \n",
       "4    1  "
      ]
     },
     "execution_count": 4,
     "metadata": {},
     "output_type": "execute_result"
    }
   ],
   "source": [
    "df = con.execute(produtos).fetch_df()\n",
    "df"
   ]
  },
  {
   "cell_type": "code",
   "execution_count": 5,
   "id": "03840fe8",
   "metadata": {},
   "outputs": [],
   "source": [
    "df_final = df.drop(columns=[\"nome_arquivo\", \"data_ingestao\", 'ROW'])"
   ]
  },
  {
   "cell_type": "code",
   "execution_count": 6,
   "id": "3d245bd1",
   "metadata": {},
   "outputs": [
    {
     "data": {
      "application/vnd.microsoft.datawrangler.viewer.v0+json": {
       "columns": [
        {
         "name": "index",
         "rawType": "int64",
         "type": "integer"
        },
        {
         "name": "NATBR",
         "rawType": "object",
         "type": "string"
        },
        {
         "name": "MARKTZ",
         "rawType": "object",
         "type": "string"
        },
        {
         "name": "WERKS",
         "rawType": "object",
         "type": "string"
        },
        {
         "name": "MAINS",
         "rawType": "object",
         "type": "string"
        },
        {
         "name": "LABST",
         "rawType": "object",
         "type": "string"
        }
       ],
       "ref": "ece45dcb-1cb5-4674-82a1-32e83084b679",
       "rows": [
        [
         "0",
         "10004",
         "SERRA",
         "BT50",
         "100",
         "200"
        ],
        [
         "1",
         "10003",
         "PREGO",
         "BT10",
         "100",
         "50"
        ],
        [
         "2",
         "10001",
         "PARAFUSO",
         "BT10",
         "100",
         "100"
        ],
        [
         "3",
         "10005",
         "MACHAD",
         "BT10",
         "100",
         "50"
        ],
        [
         "4",
         "10002",
         "MARTELO",
         "BT50",
         "100",
         "1500"
        ]
       ],
       "shape": {
        "columns": 5,
        "rows": 5
       }
      },
      "text/html": [
       "<div>\n",
       "<style scoped>\n",
       "    .dataframe tbody tr th:only-of-type {\n",
       "        vertical-align: middle;\n",
       "    }\n",
       "\n",
       "    .dataframe tbody tr th {\n",
       "        vertical-align: top;\n",
       "    }\n",
       "\n",
       "    .dataframe thead th {\n",
       "        text-align: right;\n",
       "    }\n",
       "</style>\n",
       "<table border=\"1\" class=\"dataframe\">\n",
       "  <thead>\n",
       "    <tr style=\"text-align: right;\">\n",
       "      <th></th>\n",
       "      <th>NATBR</th>\n",
       "      <th>MARKTZ</th>\n",
       "      <th>WERKS</th>\n",
       "      <th>MAINS</th>\n",
       "      <th>LABST</th>\n",
       "    </tr>\n",
       "  </thead>\n",
       "  <tbody>\n",
       "    <tr>\n",
       "      <th>0</th>\n",
       "      <td>10004</td>\n",
       "      <td>SERRA</td>\n",
       "      <td>BT50</td>\n",
       "      <td>100</td>\n",
       "      <td>200</td>\n",
       "    </tr>\n",
       "    <tr>\n",
       "      <th>1</th>\n",
       "      <td>10003</td>\n",
       "      <td>PREGO</td>\n",
       "      <td>BT10</td>\n",
       "      <td>100</td>\n",
       "      <td>50</td>\n",
       "    </tr>\n",
       "    <tr>\n",
       "      <th>2</th>\n",
       "      <td>10001</td>\n",
       "      <td>PARAFUSO</td>\n",
       "      <td>BT10</td>\n",
       "      <td>100</td>\n",
       "      <td>100</td>\n",
       "    </tr>\n",
       "    <tr>\n",
       "      <th>3</th>\n",
       "      <td>10005</td>\n",
       "      <td>MACHAD</td>\n",
       "      <td>BT10</td>\n",
       "      <td>100</td>\n",
       "      <td>50</td>\n",
       "    </tr>\n",
       "    <tr>\n",
       "      <th>4</th>\n",
       "      <td>10002</td>\n",
       "      <td>MARTELO</td>\n",
       "      <td>BT50</td>\n",
       "      <td>100</td>\n",
       "      <td>1500</td>\n",
       "    </tr>\n",
       "  </tbody>\n",
       "</table>\n",
       "</div>"
      ],
      "text/plain": [
       "   NATBR    MARKTZ WERKS MAINS LABST\n",
       "0  10004     SERRA  BT50   100   200\n",
       "1  10003     PREGO  BT10   100    50\n",
       "2  10001  PARAFUSO  BT10   100   100\n",
       "3  10005    MACHAD  BT10   100    50\n",
       "4  10002   MARTELO  BT50   100  1500"
      ]
     },
     "execution_count": 6,
     "metadata": {},
     "output_type": "execute_result"
    }
   ],
   "source": [
    "df_final"
   ]
  },
  {
   "cell_type": "code",
   "execution_count": 7,
   "id": "1fd3cf6b",
   "metadata": {},
   "outputs": [],
   "source": [
    "df_final = df_final.rename(\n",
    "        columns={\n",
    "            'NATBR': 'id', 'MARKTZ': 'nm_produto', 'WERKS': 'id_categoria',\n",
    "            'MAINS': 'id_fornecedor', 'LABST':'vl_preco'\n",
    "            }\n",
    "    )"
   ]
  },
  {
   "cell_type": "code",
   "execution_count": 8,
   "id": "c26822f1",
   "metadata": {},
   "outputs": [
    {
     "data": {
      "application/vnd.microsoft.datawrangler.viewer.v0+json": {
       "columns": [
        {
         "name": "index",
         "rawType": "int64",
         "type": "integer"
        },
        {
         "name": "id",
         "rawType": "object",
         "type": "string"
        },
        {
         "name": "nm_produto",
         "rawType": "object",
         "type": "string"
        },
        {
         "name": "id_categoria",
         "rawType": "object",
         "type": "string"
        },
        {
         "name": "id_fornecedor",
         "rawType": "object",
         "type": "string"
        },
        {
         "name": "vl_preco",
         "rawType": "object",
         "type": "string"
        }
       ],
       "ref": "2712138a-40f9-436b-b8cd-3ec6659b1c0f",
       "rows": [
        [
         "0",
         "10004",
         "SERRA",
         "BT50",
         "100",
         "200"
        ],
        [
         "1",
         "10003",
         "PREGO",
         "BT10",
         "100",
         "50"
        ],
        [
         "2",
         "10001",
         "PARAFUSO",
         "BT10",
         "100",
         "100"
        ],
        [
         "3",
         "10005",
         "MACHAD",
         "BT10",
         "100",
         "50"
        ],
        [
         "4",
         "10002",
         "MARTELO",
         "BT50",
         "100",
         "1500"
        ]
       ],
       "shape": {
        "columns": 5,
        "rows": 5
       }
      },
      "text/html": [
       "<div>\n",
       "<style scoped>\n",
       "    .dataframe tbody tr th:only-of-type {\n",
       "        vertical-align: middle;\n",
       "    }\n",
       "\n",
       "    .dataframe tbody tr th {\n",
       "        vertical-align: top;\n",
       "    }\n",
       "\n",
       "    .dataframe thead th {\n",
       "        text-align: right;\n",
       "    }\n",
       "</style>\n",
       "<table border=\"1\" class=\"dataframe\">\n",
       "  <thead>\n",
       "    <tr style=\"text-align: right;\">\n",
       "      <th></th>\n",
       "      <th>id</th>\n",
       "      <th>nm_produto</th>\n",
       "      <th>id_categoria</th>\n",
       "      <th>id_fornecedor</th>\n",
       "      <th>vl_preco</th>\n",
       "    </tr>\n",
       "  </thead>\n",
       "  <tbody>\n",
       "    <tr>\n",
       "      <th>0</th>\n",
       "      <td>10004</td>\n",
       "      <td>SERRA</td>\n",
       "      <td>BT50</td>\n",
       "      <td>100</td>\n",
       "      <td>200</td>\n",
       "    </tr>\n",
       "    <tr>\n",
       "      <th>1</th>\n",
       "      <td>10003</td>\n",
       "      <td>PREGO</td>\n",
       "      <td>BT10</td>\n",
       "      <td>100</td>\n",
       "      <td>50</td>\n",
       "    </tr>\n",
       "    <tr>\n",
       "      <th>2</th>\n",
       "      <td>10001</td>\n",
       "      <td>PARAFUSO</td>\n",
       "      <td>BT10</td>\n",
       "      <td>100</td>\n",
       "      <td>100</td>\n",
       "    </tr>\n",
       "    <tr>\n",
       "      <th>3</th>\n",
       "      <td>10005</td>\n",
       "      <td>MACHAD</td>\n",
       "      <td>BT10</td>\n",
       "      <td>100</td>\n",
       "      <td>50</td>\n",
       "    </tr>\n",
       "    <tr>\n",
       "      <th>4</th>\n",
       "      <td>10002</td>\n",
       "      <td>MARTELO</td>\n",
       "      <td>BT50</td>\n",
       "      <td>100</td>\n",
       "      <td>1500</td>\n",
       "    </tr>\n",
       "  </tbody>\n",
       "</table>\n",
       "</div>"
      ],
      "text/plain": [
       "      id nm_produto id_categoria id_fornecedor vl_preco\n",
       "0  10004      SERRA         BT50           100      200\n",
       "1  10003      PREGO         BT10           100       50\n",
       "2  10001   PARAFUSO         BT10           100      100\n",
       "3  10005     MACHAD         BT10           100       50\n",
       "4  10002    MARTELO         BT50           100     1500"
      ]
     },
     "execution_count": 8,
     "metadata": {},
     "output_type": "execute_result"
    }
   ],
   "source": [
    "df_final"
   ]
  },
  {
   "cell_type": "code",
   "execution_count": 9,
   "id": "93e8527e",
   "metadata": {},
   "outputs": [
    {
     "data": {
      "application/vnd.microsoft.datawrangler.viewer.v0+json": {
       "columns": [
        {
         "name": "index",
         "rawType": "int64",
         "type": "integer"
        },
        {
         "name": "id",
         "rawType": "object",
         "type": "string"
        },
        {
         "name": "nm_produto",
         "rawType": "object",
         "type": "string"
        },
        {
         "name": "id_categoria",
         "rawType": "object",
         "type": "string"
        },
        {
         "name": "id_fornecedor",
         "rawType": "object",
         "type": "string"
        },
        {
         "name": "vl_preco",
         "rawType": "object",
         "type": "string"
        }
       ],
       "ref": "606d5bea-7df8-410a-ad46-1f88392fb266",
       "rows": [
        [
         "0",
         "10004",
         "SERRA",
         "BT50",
         "100",
         "200"
        ],
        [
         "1",
         "10003",
         "PREGO",
         "BT10",
         "100",
         "50"
        ],
        [
         "2",
         "10001",
         "PARAFUSO",
         "BT10",
         "100",
         "100"
        ],
        [
         "3",
         "10005",
         "MACHAD",
         "BT10",
         "100",
         "50"
        ],
        [
         "4",
         "10002",
         "MARTELO",
         "BT50",
         "100",
         "1500"
        ]
       ],
       "shape": {
        "columns": 5,
        "rows": 5
       }
      },
      "text/html": [
       "<div>\n",
       "<style scoped>\n",
       "    .dataframe tbody tr th:only-of-type {\n",
       "        vertical-align: middle;\n",
       "    }\n",
       "\n",
       "    .dataframe tbody tr th {\n",
       "        vertical-align: top;\n",
       "    }\n",
       "\n",
       "    .dataframe thead th {\n",
       "        text-align: right;\n",
       "    }\n",
       "</style>\n",
       "<table border=\"1\" class=\"dataframe\">\n",
       "  <thead>\n",
       "    <tr style=\"text-align: right;\">\n",
       "      <th></th>\n",
       "      <th>id</th>\n",
       "      <th>nm_produto</th>\n",
       "      <th>id_categoria</th>\n",
       "      <th>id_fornecedor</th>\n",
       "      <th>vl_preco</th>\n",
       "    </tr>\n",
       "  </thead>\n",
       "  <tbody>\n",
       "    <tr>\n",
       "      <th>0</th>\n",
       "      <td>10004</td>\n",
       "      <td>SERRA</td>\n",
       "      <td>BT50</td>\n",
       "      <td>100</td>\n",
       "      <td>200</td>\n",
       "    </tr>\n",
       "    <tr>\n",
       "      <th>1</th>\n",
       "      <td>10003</td>\n",
       "      <td>PREGO</td>\n",
       "      <td>BT10</td>\n",
       "      <td>100</td>\n",
       "      <td>50</td>\n",
       "    </tr>\n",
       "    <tr>\n",
       "      <th>2</th>\n",
       "      <td>10001</td>\n",
       "      <td>PARAFUSO</td>\n",
       "      <td>BT10</td>\n",
       "      <td>100</td>\n",
       "      <td>100</td>\n",
       "    </tr>\n",
       "    <tr>\n",
       "      <th>3</th>\n",
       "      <td>10005</td>\n",
       "      <td>MACHAD</td>\n",
       "      <td>BT10</td>\n",
       "      <td>100</td>\n",
       "      <td>50</td>\n",
       "    </tr>\n",
       "    <tr>\n",
       "      <th>4</th>\n",
       "      <td>10002</td>\n",
       "      <td>MARTELO</td>\n",
       "      <td>BT50</td>\n",
       "      <td>100</td>\n",
       "      <td>1500</td>\n",
       "    </tr>\n",
       "  </tbody>\n",
       "</table>\n",
       "</div>"
      ],
      "text/plain": [
       "      id nm_produto id_categoria id_fornecedor vl_preco\n",
       "0  10004      SERRA         BT50           100      200\n",
       "1  10003      PREGO         BT10           100       50\n",
       "2  10001   PARAFUSO         BT10           100      100\n",
       "3  10005     MACHAD         BT10           100       50\n",
       "4  10002    MARTELO         BT50           100     1500"
      ]
     },
     "execution_count": 9,
     "metadata": {},
     "output_type": "execute_result"
    }
   ],
   "source": [
    "df2 = df_final\n",
    "df2"
   ]
  },
  {
   "cell_type": "code",
   "execution_count": 10,
   "id": "c29386be",
   "metadata": {},
   "outputs": [
    {
     "data": {
      "application/vnd.microsoft.datawrangler.viewer.v0+json": {
       "columns": [
        {
         "name": "index",
         "rawType": "object",
         "type": "string"
        },
        {
         "name": "0",
         "rawType": "object",
         "type": "string"
        }
       ],
       "ref": "b6db3578-9917-42ad-a714-38f7dce05570",
       "rows": [
        [
         "id",
         "object"
        ],
        [
         "nm_produto",
         "object"
        ],
        [
         "id_categoria",
         "object"
        ],
        [
         "id_fornecedor",
         "object"
        ],
        [
         "vl_preco",
         "object"
        ]
       ],
       "shape": {
        "columns": 1,
        "rows": 5
       }
      },
      "text/plain": [
       "id               object\n",
       "nm_produto       object\n",
       "id_categoria     object\n",
       "id_fornecedor    object\n",
       "vl_preco         object\n",
       "dtype: object"
      ]
     },
     "execution_count": 10,
     "metadata": {},
     "output_type": "execute_result"
    }
   ],
   "source": [
    "df_final.dtypes"
   ]
  },
  {
   "cell_type": "code",
   "execution_count": 11,
   "id": "66bbd2b6",
   "metadata": {},
   "outputs": [],
   "source": [
    "df2 = df2.astype(\n",
    "    {\n",
    "        \"id\": int,\n",
    "        \"nm_produto\": str,\n",
    "        \"id_categoria\": str,\n",
    "        \"id_fornecedor\": int,\n",
    "        \"vl_preco\": float,\n",
    "    }\n",
    ")\n"
   ]
  },
  {
   "cell_type": "code",
   "execution_count": 12,
   "id": "e8365564",
   "metadata": {},
   "outputs": [
    {
     "data": {
      "application/vnd.microsoft.datawrangler.viewer.v0+json": {
       "columns": [
        {
         "name": "index",
         "rawType": "object",
         "type": "string"
        },
        {
         "name": "0",
         "rawType": "object",
         "type": "string"
        }
       ],
       "ref": "3c8defab-2c5e-4b12-abc1-a858f7cf565a",
       "rows": [
        [
         "id",
         "int32"
        ],
        [
         "nm_produto",
         "object"
        ],
        [
         "id_categoria",
         "object"
        ],
        [
         "id_fornecedor",
         "int32"
        ],
        [
         "vl_preco",
         "float64"
        ]
       ],
       "shape": {
        "columns": 1,
        "rows": 5
       }
      },
      "text/plain": [
       "id                 int32\n",
       "nm_produto        object\n",
       "id_categoria      object\n",
       "id_fornecedor      int32\n",
       "vl_preco         float64\n",
       "dtype: object"
      ]
     },
     "execution_count": 12,
     "metadata": {},
     "output_type": "execute_result"
    }
   ],
   "source": [
    "df2.dtypes"
   ]
  },
  {
   "cell_type": "code",
   "execution_count": 13,
   "id": "fa09c21f",
   "metadata": {},
   "outputs": [
    {
     "data": {
      "application/vnd.microsoft.datawrangler.viewer.v0+json": {
       "columns": [
        {
         "name": "index",
         "rawType": "int64",
         "type": "integer"
        },
        {
         "name": "id",
         "rawType": "int32",
         "type": "integer"
        },
        {
         "name": "nm_produto",
         "rawType": "object",
         "type": "string"
        },
        {
         "name": "id_categoria",
         "rawType": "object",
         "type": "string"
        },
        {
         "name": "id_fornecedor",
         "rawType": "int32",
         "type": "integer"
        },
        {
         "name": "vl_preco",
         "rawType": "float64",
         "type": "float"
        }
       ],
       "ref": "e7598d65-a09e-4193-8775-32898c713d26",
       "rows": [
        [
         "0",
         "10004",
         "SERRA",
         "BT50",
         "100",
         "200.0"
        ],
        [
         "1",
         "10003",
         "PREGO",
         "BT10",
         "100",
         "50.0"
        ],
        [
         "2",
         "10001",
         "PARAFUSO",
         "BT10",
         "100",
         "100.0"
        ],
        [
         "3",
         "10005",
         "MACHAD",
         "BT10",
         "100",
         "50.0"
        ],
        [
         "4",
         "10002",
         "MARTELO",
         "BT50",
         "100",
         "1500.0"
        ]
       ],
       "shape": {
        "columns": 5,
        "rows": 5
       }
      },
      "text/html": [
       "<div>\n",
       "<style scoped>\n",
       "    .dataframe tbody tr th:only-of-type {\n",
       "        vertical-align: middle;\n",
       "    }\n",
       "\n",
       "    .dataframe tbody tr th {\n",
       "        vertical-align: top;\n",
       "    }\n",
       "\n",
       "    .dataframe thead th {\n",
       "        text-align: right;\n",
       "    }\n",
       "</style>\n",
       "<table border=\"1\" class=\"dataframe\">\n",
       "  <thead>\n",
       "    <tr style=\"text-align: right;\">\n",
       "      <th></th>\n",
       "      <th>id</th>\n",
       "      <th>nm_produto</th>\n",
       "      <th>id_categoria</th>\n",
       "      <th>id_fornecedor</th>\n",
       "      <th>vl_preco</th>\n",
       "    </tr>\n",
       "  </thead>\n",
       "  <tbody>\n",
       "    <tr>\n",
       "      <th>0</th>\n",
       "      <td>10004</td>\n",
       "      <td>SERRA</td>\n",
       "      <td>BT50</td>\n",
       "      <td>100</td>\n",
       "      <td>200.0</td>\n",
       "    </tr>\n",
       "    <tr>\n",
       "      <th>1</th>\n",
       "      <td>10003</td>\n",
       "      <td>PREGO</td>\n",
       "      <td>BT10</td>\n",
       "      <td>100</td>\n",
       "      <td>50.0</td>\n",
       "    </tr>\n",
       "    <tr>\n",
       "      <th>2</th>\n",
       "      <td>10001</td>\n",
       "      <td>PARAFUSO</td>\n",
       "      <td>BT10</td>\n",
       "      <td>100</td>\n",
       "      <td>100.0</td>\n",
       "    </tr>\n",
       "    <tr>\n",
       "      <th>3</th>\n",
       "      <td>10005</td>\n",
       "      <td>MACHAD</td>\n",
       "      <td>BT10</td>\n",
       "      <td>100</td>\n",
       "      <td>50.0</td>\n",
       "    </tr>\n",
       "    <tr>\n",
       "      <th>4</th>\n",
       "      <td>10002</td>\n",
       "      <td>MARTELO</td>\n",
       "      <td>BT50</td>\n",
       "      <td>100</td>\n",
       "      <td>1500.0</td>\n",
       "    </tr>\n",
       "  </tbody>\n",
       "</table>\n",
       "</div>"
      ],
      "text/plain": [
       "      id nm_produto id_categoria  id_fornecedor  vl_preco\n",
       "0  10004      SERRA         BT50            100     200.0\n",
       "1  10003      PREGO         BT10            100      50.0\n",
       "2  10001   PARAFUSO         BT10            100     100.0\n",
       "3  10005     MACHAD         BT10            100      50.0\n",
       "4  10002    MARTELO         BT50            100    1500.0"
      ]
     },
     "execution_count": 13,
     "metadata": {},
     "output_type": "execute_result"
    }
   ],
   "source": [
    "df2"
   ]
  },
  {
   "cell_type": "code",
   "execution_count": null,
   "id": "f6a79023",
   "metadata": {},
   "outputs": [],
   "source": [
    "tabela = \"\"\" \n",
    "CREATE TABLE IF NOT EXISTS produtos (\n",
    "        id BIGINT,\n",
    "        nm_produto TEXT,\n",
    "        id_categoria TEXT,\n",
    "        id_fornecedor BIGINT,\n",
    "        vl_preco FLOAT\n",
    ")\n",
    "\"\"\""
   ]
  },
  {
   "cell_type": "code",
   "execution_count": 19,
   "id": "ff7d2161",
   "metadata": {},
   "outputs": [
    {
     "data": {
      "text/plain": [
       "<duckdb.duckdb.DuckDBPyConnection at 0x207101bad70>"
      ]
     },
     "execution_count": 19,
     "metadata": {},
     "output_type": "execute_result"
    }
   ],
   "source": [
    "con.execute(tabela)"
   ]
  },
  {
   "cell_type": "code",
   "execution_count": null,
   "id": "bb9b20e8",
   "metadata": {},
   "outputs": [],
   "source": [
    "con.execute(\"INSERT INTO  produtos SELECT * FROM df2\")"
   ]
  },
  {
   "cell_type": "code",
   "execution_count": 5,
   "id": "b90d539b",
   "metadata": {},
   "outputs": [
    {
     "data": {
      "application/vnd.microsoft.datawrangler.viewer.v0+json": {
       "columns": [
        {
         "name": "index",
         "rawType": "int64",
         "type": "integer"
        },
        {
         "name": "id",
         "rawType": "int64",
         "type": "integer"
        },
        {
         "name": "nm_produto",
         "rawType": "object",
         "type": "string"
        },
        {
         "name": "id_categoria",
         "rawType": "object",
         "type": "string"
        },
        {
         "name": "id_fornecedor",
         "rawType": "int64",
         "type": "integer"
        },
        {
         "name": "vl_preco",
         "rawType": "float32",
         "type": "float"
        }
       ],
       "ref": "46eddfe6-df84-4e65-921e-83e5b8656039",
       "rows": [
        [
         "0",
         "10004",
         "SERRA",
         "BT50",
         "100",
         "200.0"
        ],
        [
         "1",
         "10003",
         "PREGO",
         "BT10",
         "100",
         "50.0"
        ],
        [
         "2",
         "10001",
         "PARAFUSO",
         "BT10",
         "100",
         "100.0"
        ],
        [
         "3",
         "10005",
         "MACHAD",
         "BT10",
         "100",
         "50.0"
        ],
        [
         "4",
         "10002",
         "MARTELO",
         "BT50",
         "100",
         "1500.0"
        ]
       ],
       "shape": {
        "columns": 5,
        "rows": 5
       }
      },
      "text/html": [
       "<div>\n",
       "<style scoped>\n",
       "    .dataframe tbody tr th:only-of-type {\n",
       "        vertical-align: middle;\n",
       "    }\n",
       "\n",
       "    .dataframe tbody tr th {\n",
       "        vertical-align: top;\n",
       "    }\n",
       "\n",
       "    .dataframe thead th {\n",
       "        text-align: right;\n",
       "    }\n",
       "</style>\n",
       "<table border=\"1\" class=\"dataframe\">\n",
       "  <thead>\n",
       "    <tr style=\"text-align: right;\">\n",
       "      <th></th>\n",
       "      <th>id</th>\n",
       "      <th>nm_produto</th>\n",
       "      <th>id_categoria</th>\n",
       "      <th>id_fornecedor</th>\n",
       "      <th>vl_preco</th>\n",
       "    </tr>\n",
       "  </thead>\n",
       "  <tbody>\n",
       "    <tr>\n",
       "      <th>0</th>\n",
       "      <td>10004</td>\n",
       "      <td>SERRA</td>\n",
       "      <td>BT50</td>\n",
       "      <td>100</td>\n",
       "      <td>200.0</td>\n",
       "    </tr>\n",
       "    <tr>\n",
       "      <th>1</th>\n",
       "      <td>10003</td>\n",
       "      <td>PREGO</td>\n",
       "      <td>BT10</td>\n",
       "      <td>100</td>\n",
       "      <td>50.0</td>\n",
       "    </tr>\n",
       "    <tr>\n",
       "      <th>2</th>\n",
       "      <td>10001</td>\n",
       "      <td>PARAFUSO</td>\n",
       "      <td>BT10</td>\n",
       "      <td>100</td>\n",
       "      <td>100.0</td>\n",
       "    </tr>\n",
       "    <tr>\n",
       "      <th>3</th>\n",
       "      <td>10005</td>\n",
       "      <td>MACHAD</td>\n",
       "      <td>BT10</td>\n",
       "      <td>100</td>\n",
       "      <td>50.0</td>\n",
       "    </tr>\n",
       "    <tr>\n",
       "      <th>4</th>\n",
       "      <td>10002</td>\n",
       "      <td>MARTELO</td>\n",
       "      <td>BT50</td>\n",
       "      <td>100</td>\n",
       "      <td>1500.0</td>\n",
       "    </tr>\n",
       "  </tbody>\n",
       "</table>\n",
       "</div>"
      ],
      "text/plain": [
       "      id nm_produto id_categoria  id_fornecedor  vl_preco\n",
       "0  10004      SERRA         BT50            100     200.0\n",
       "1  10003      PREGO         BT10            100      50.0\n",
       "2  10001   PARAFUSO         BT10            100     100.0\n",
       "3  10005     MACHAD         BT10            100      50.0\n",
       "4  10002    MARTELO         BT50            100    1500.0"
      ]
     },
     "execution_count": 5,
     "metadata": {},
     "output_type": "execute_result"
    }
   ],
   "source": [
    "df_resultado  = con.execute(\"SELECT * FROM produtos\").fetch_df()\n",
    "df_resultado"
   ]
  },
  {
   "cell_type": "code",
   "execution_count": 6,
   "id": "5deb52ab",
   "metadata": {},
   "outputs": [],
   "source": [
    "con.close()"
   ]
  }
 ],
 "metadata": {
  "kernelspec": {
   "display_name": "base",
   "language": "python",
   "name": "python3"
  },
  "language_info": {
   "codemirror_mode": {
    "name": "ipython",
    "version": 3
   },
   "file_extension": ".py",
   "mimetype": "text/x-python",
   "name": "python",
   "nbconvert_exporter": "python",
   "pygments_lexer": "ipython3",
   "version": "3.9.19"
  }
 },
 "nbformat": 4,
 "nbformat_minor": 5
}
